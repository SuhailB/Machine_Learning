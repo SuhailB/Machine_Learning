{
 "cells": [
  {
   "cell_type": "code",
   "execution_count": null,
   "metadata": {},
   "outputs": [],
   "source": [
    "# Plot ad hoc mnist instances\n",
    "#from keras.datasets import mnist\n",
    "import numpy as np\n",
    "import pandas as pd\n",
    "from PIL import Image, ImageDraw\n",
    "import matplotlib.pyplot as plt\n",
    "from sklearn.neural_network import MLPClassifier\n",
    "from sklearn.metrics import accuracy_score\n",
    "\n",
    "data = pd.read_csv('train.csv').values\n",
    "X = data[:,1:]\n",
    "Y = data[:,0]\n",
    "\n",
    "labels = [\"Not normalized 80% training data\", \"Normalized 80% training data\"]\n",
    "plot_args = [{'c': 'red', 'linestyle': '-'},{'c': 'green', 'linestyle': '-'}]"
   ]
  },
  {
   "cell_type": "code",
   "execution_count": null,
   "metadata": {},
   "outputs": [],
   "source": [
    "def getTrainingData(X, Y, train_ratio, normalize=True):\n",
    "    \n",
    "    TRAINING_SIZE = (int)(len(data)*train_ratio)\n",
    "    \n",
    "    if(normalize==True): X = X/X.max()\n",
    "    \n",
    "    X_train = X[0:TRAINING_SIZE,:]\n",
    "    Y_train = Y[0:TRAINING_SIZE]\n",
    "   \n",
    "    return X_train, Y_train\n",
    "\n",
    "def getTestingData(X, Y, train_ratio, test_size, test_remaining=False, normalize=True):\n",
    "    \n",
    "    TRAINING_SIZE = (int)(len(data)*train_ratio)\n",
    "    \n",
    "    if(normalize==True): X = X/X.max()\n",
    "    \n",
    "    if test_remaining==True:\n",
    "        X_test = X[TRAINING_SIZE:,:]\n",
    "        Y_test = Y[TRAINING_SIZE:]\n",
    "    else:\n",
    "        X_test = X[TRAINING_SIZE:TRAINING_SIZE+test_size,:]\n",
    "        Y_test = Y[TRAINING_SIZE:TRAINING_SIZE+test_size]\n",
    "    \n",
    "    return X_test, Y_test"
   ]
  },
  {
   "cell_type": "code",
   "execution_count": null,
   "metadata": {},
   "outputs": [],
   "source": [
    "TRAINING_RATIO = 0.8\n",
    "\n",
    "data_sets = [getTrainingData(X,Y,TRAINING_RATIO, False),getTrainingData(X,Y,TRAINING_RATIO, True)]\n",
    "\n",
    "mlps = []\n",
    "for label, data_set in zip(labels, data_sets):\n",
    "    X_train, Y_train = data_set\n",
    "    print(\"training: %s\" % label)\n",
    "    mlp = MLPClassifier()\n",
    "    mlp.fit(X_train, Y_train)\n",
    "    mlps.append(mlp) \n",
    "    print(\"done training: %s!\" % label)\n",
    "print(\"done all training!\")"
   ]
  },
  {
   "cell_type": "code",
   "execution_count": null,
   "metadata": {},
   "outputs": [],
   "source": [
    "testing_sets = [getTestingData(X, Y, TRAINING_RATIO, 100, test_remaining=True, normalize=False),\n",
    "                getTestingData(X, Y, TRAINING_RATIO, 100, test_remaining=True, normalize=True)]\n",
    "\n",
    "\n",
    "fig, axes = plt.subplots(figsize=(15, 10))\n",
    "for mlp, testing_set, label, plot_arg in zip(mlps, testing_sets, labels, plot_args):\n",
    "    \n",
    "    X_test, Y_test = testing_set\n",
    "    \n",
    "    print(\"Compute predictions\")\n",
    "    predicted = mlp.predict(X_test)\n",
    "\n",
    "    print(\"Accuracy: \", accuracy_score(Y_test, predicted))\n",
    "\n",
    "    #print(\"score of training data \", clf.score(X, y))\n",
    "    print(\"score of testing data \", mlp.score(X_test, Y_test))\n",
    "\n",
    "    print(Y_test[0:10])\n",
    "    print(mlp.predict(X_test[0:10]))\n",
    "    print(\"Training set score: %f\" % mlp.score(X_test, Y_test))\n",
    "    print(\"Training set loss: %f\" % mlp.loss_)\n",
    "    print(mlp.loss_curve_)\n",
    "    axes.plot(mlp.loss_curve_, label=label, **plot_arg)\n",
    "\n",
    "fig.legend(axes.get_lines(), labels, ncol = 2, loc=\"upper center\")\n",
    "plt.show()"
   ]
  }
 ],
 "metadata": {
  "kernelspec": {
   "display_name": "Python 3",
   "language": "python",
   "name": "python3"
  },
  "language_info": {
   "codemirror_mode": {
    "name": "ipython",
    "version": 3
   },
   "file_extension": ".py",
   "mimetype": "text/x-python",
   "name": "python",
   "nbconvert_exporter": "python",
   "pygments_lexer": "ipython3",
   "version": "3.7.1"
  }
 },
 "nbformat": 4,
 "nbformat_minor": 2
}
