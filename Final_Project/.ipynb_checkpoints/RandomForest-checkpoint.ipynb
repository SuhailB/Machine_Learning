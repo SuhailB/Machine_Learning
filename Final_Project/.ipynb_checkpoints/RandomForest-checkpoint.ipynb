{
 "cells": [
  {
   "cell_type": "code",
   "execution_count": 1,
   "metadata": {},
   "outputs": [],
   "source": [
    "# Plot ad hoc mnist instances\n",
    "#from keras.datasets import mnist\n",
    "import numpy as np\n",
    "import pandas as pd\n",
    "from PIL import Image, ImageDraw\n",
    "import matplotlib.pyplot as plt\n",
    "from sklearn.ensemble import RandomForestClassifier\n",
    "from sklearn.metrics import accuracy_score\n",
    "from sklearn.model_selection import KFold\n",
    "\n",
    "data = pd.read_csv('train.csv').values\n",
    "X = data[:,1:]\n",
    "Y = data[:,0]"
   ]
  },
  {
   "cell_type": "code",
   "execution_count": 2,
   "metadata": {},
   "outputs": [],
   "source": [
    "def getData(X, Y, folds, normalize):\n",
    "    \n",
    "    if(normalize==True): X = X/X.max()\n",
    "    \n",
    "    kf = KFold(n_splits=folds)\n",
    "    kf.get_n_splits(X)\n",
    "    \n",
    "    print(kf)  \n",
    "    train_data = []\n",
    "    test_data = []\n",
    "\n",
    "    for train_index, test_index in kf.split(X):\n",
    "        X_train, X_test = X[train_index], X[test_index]\n",
    "        Y_train, Y_test = Y[train_index], Y[test_index]\n",
    "        train_data.append((X_train,Y_train))\n",
    "        test_data.append((X_test, Y_test))\n",
    "        \n",
    "    return train_data, test_data\n",
    "\n",
    "def getTrainingData(X, Y, train_ratio, normalize=True):\n",
    "    \n",
    "    TRAINING_SIZE = (int)(len(data)*train_ratio)\n",
    "    \n",
    "    if(normalize==True): X = X/X.max()\n",
    "    \n",
    "    X_train = X[0:TRAINING_SIZE,:]\n",
    "    Y_train = Y[0:TRAINING_SIZE]\n",
    "   \n",
    "    return X_train, Y_train\n",
    "\n",
    "def getTestingData(X, Y, train_ratio, test_size, test_remaining=False, normalize=True):\n",
    "    \n",
    "    TRAINING_SIZE = (int)(len(data)*train_ratio)\n",
    "    \n",
    "    if(normalize==True): X = X/X.max()\n",
    "    \n",
    "    if test_remaining==True:\n",
    "        X_test = X[TRAINING_SIZE:,:]\n",
    "        Y_test = Y[TRAINING_SIZE:]\n",
    "    else:\n",
    "        X_test = X[TRAINING_SIZE:TRAINING_SIZE+test_size,:]\n",
    "        Y_test = Y[TRAINING_SIZE:TRAINING_SIZE+test_size]\n",
    "    \n",
    "    return X_test, Y_test"
   ]
  },
  {
   "cell_type": "code",
   "execution_count": 3,
   "metadata": {},
   "outputs": [
    {
     "name": "stdout",
     "output_type": "stream",
     "text": [
      "KFold(n_splits=5, random_state=None, shuffle=False)\n",
      "KFold(n_splits=5, random_state=None, shuffle=False)\n"
     ]
    }
   ],
   "source": [
    "set_names = [\"Non-normalized Data\", \"Normalized Data\"]\n",
    "rawTrainSets, rawTestSets = getData(X, Y, 5, False)\n",
    "normTrainSets, normTestSets = getData(X, Y, 5, True)\n",
    "train_sets = [rawTrainSets, normTrainSets]"
   ]
  },
  {
   "cell_type": "code",
   "execution_count": 61,
   "metadata": {},
   "outputs": [],
   "source": [
    "params = [{'n_estimators': 1       , 'criterion':'gini', 'bootstrap': False},\n",
    "          {'n_estimators': 1, 'criterion':'gini',     'bootstrap': True},\n",
    "          {'n_estimators': 1, 'criterion':'entropy', 'bootstrap': False },\n",
    "          {'n_estimators': 1, 'criterion':'entropy', 'bootstrap': True },\n",
    "          {'n_estimators': 10, 'criterion':'gini', 'bootstrap': False },\n",
    "          {'n_estimators': 10, 'criterion':'gini', 'bootstrap': True },\n",
    "          {'n_estimators': 10, 'criterion':'entropy', 'bootstrap': False },\n",
    "          {'n_estimators': 10, 'criterion':'entropy', 'bootstrap': True },\n",
    "          {'n_estimators': 100, 'criterion':'gini', 'bootstrap': False },\n",
    "          {'n_estimators': 100, 'criterion':'gini',     'bootstrap': True },\n",
    "          {'n_estimators': 100, 'criterion':'entropy', 'bootstrap': False },\n",
    "          {'n_estimators': 100, 'criterion':'entropy',  'bootstrap': True }]\n",
    "          \n",
    "plot_args = [{'c': 'red', 'linestyle': '-'},\n",
    "             {'c': 'red', 'linestyle': '-'},\n",
    "             {'c': 'red', 'linestyle': '-'},\n",
    "             {'c': 'green', 'linestyle': '--'},\n",
    "             {'c': 'green', 'linestyle': '--'},\n",
    "             {'c': 'green', 'linestyle': '--'},\n",
    "             {'c': 'blue', 'linestyle': '-'},\n",
    "             {'c': 'blue', 'linestyle': '-'},\n",
    "             {'c': 'blue', 'linestyle': '-'},\n",
    "             {'c': 'yellow', 'linestyle': '--'},\n",
    "             {'c': 'yellow', 'linestyle': '--'},\n",
    "             {'c': 'yellow', 'linestyle': '--'}]\n"
   ]
  },
  {
   "cell_type": "code",
   "execution_count": 50,
   "metadata": {},
   "outputs": [
    {
     "name": "stdout",
     "output_type": "stream",
     "text": [
      "Training models using Non-normalized Data \n",
      "Training using:  {'n_estimators': 1, 'criterion': 'gini', 'bootstrap': False}\n",
      "Done training!\n",
      "Training using:  {'n_estimators': 1, 'criterion': 'gini', 'bootstrap': True}\n",
      "Done training!\n",
      "Training using:  {'n_estimators': 1, 'criterion': 'entropy', 'bootstrap': False}\n",
      "Done training!\n",
      "Training using:  {'n_estimators': 1, 'criterion': 'entropy', 'bootstrap': True}\n",
      "Done training!\n",
      "Training using:  {'n_estimators': 10, 'criterion': 'gini', 'bootstrap': False}\n",
      "Done training!\n",
      "Training using:  {'n_estimators': 10, 'criterion': 'gini', 'bootstrap': True}\n",
      "Done training!\n",
      "Training using:  {'n_estimators': 10, 'criterion': 'entropy', 'bootstrap': False}\n",
      "Done training!\n",
      "Training using:  {'n_estimators': 10, 'criterion': 'entropy', 'bootstrap': True}\n",
      "Done training!\n",
      "Training using:  {'n_estimators': 100, 'criterion': 'gini', 'bootstrap': False}\n",
      "Done training!\n",
      "Training using:  {'n_estimators': 100, 'criterion': 'gini', 'bootstrap': True}\n",
      "Done training!\n",
      "Training using:  {'n_estimators': 100, 'criterion': 'entropy', 'bootstrap': False}\n",
      "Done training!\n",
      "Training using:  {'n_estimators': 100, 'criterion': 'entropy', 'bootstrap': True}\n",
      "Done training!\n",
      "Training models using Normalized Data \n",
      "Training using:  {'n_estimators': 1, 'criterion': 'gini', 'bootstrap': False}\n",
      "Done training!\n",
      "Training using:  {'n_estimators': 1, 'criterion': 'gini', 'bootstrap': True}\n",
      "Done training!\n",
      "Training using:  {'n_estimators': 1, 'criterion': 'entropy', 'bootstrap': False}\n",
      "Done training!\n",
      "Training using:  {'n_estimators': 1, 'criterion': 'entropy', 'bootstrap': True}\n",
      "Done training!\n",
      "Training using:  {'n_estimators': 10, 'criterion': 'gini', 'bootstrap': False}\n",
      "Done training!\n",
      "Training using:  {'n_estimators': 10, 'criterion': 'gini', 'bootstrap': True}\n",
      "Done training!\n",
      "Training using:  {'n_estimators': 10, 'criterion': 'entropy', 'bootstrap': False}\n",
      "Done training!\n",
      "Training using:  {'n_estimators': 10, 'criterion': 'entropy', 'bootstrap': True}\n",
      "Done training!\n",
      "Training using:  {'n_estimators': 100, 'criterion': 'gini', 'bootstrap': False}\n",
      "Done training!\n",
      "Training using:  {'n_estimators': 100, 'criterion': 'gini', 'bootstrap': True}\n",
      "Done training!\n",
      "Training using:  {'n_estimators': 100, 'criterion': 'entropy', 'bootstrap': False}\n",
      "Done training!\n",
      "Training using:  {'n_estimators': 100, 'criterion': 'entropy', 'bootstrap': True}\n",
      "Done training!\n",
      "Done all training!\n"
     ]
    }
   ],
   "source": [
    "rfs = []\n",
    "for train_set, set_name in zip(train_sets, set_names):\n",
    "    X_train, y_train = train_set[4]\n",
    "    print(\"Training models using %s \" % set_name)\n",
    "    for param in params:\n",
    "        print(\"Training using: \", param)\n",
    "        rf = RandomForestClassifier(**param, n_jobs = -1)\n",
    "        rf.fit(X_train, y_train)\n",
    "        rfs.append(rf)\n",
    "        print(\"Done training!\")\n",
    "print(\"Done all training!\")"
   ]
  },
  {
   "cell_type": "code",
   "execution_count": 62,
   "metadata": {
    "scrolled": false
   },
   "outputs": [
    {
     "name": "stdout",
     "output_type": "stream",
     "text": [
      "Testing models using Non-normalized Data \n",
      "{'n_estimators': 1, 'criterion': 'gini', 'bootstrap': False} \t 0.8196428571428571\n",
      "{'n_estimators': 1, 'criterion': 'gini', 'bootstrap': True} \t 0.7884523809523809\n",
      "{'n_estimators': 1, 'criterion': 'entropy', 'bootstrap': False} \t 0.825952380952381\n",
      "{'n_estimators': 1, 'criterion': 'entropy', 'bootstrap': True} \t 0.8029761904761905\n",
      "{'n_estimators': 10, 'criterion': 'gini', 'bootstrap': False} \t 0.9492857142857143\n",
      "{'n_estimators': 10, 'criterion': 'gini', 'bootstrap': True} \t 0.9388095238095238\n",
      "{'n_estimators': 10, 'criterion': 'entropy', 'bootstrap': False} \t 0.9515476190476191\n",
      "{'n_estimators': 10, 'criterion': 'entropy', 'bootstrap': True} \t 0.9421428571428572\n",
      "{'n_estimators': 100, 'criterion': 'gini', 'bootstrap': False} \t 0.9698809523809524\n",
      "{'n_estimators': 100, 'criterion': 'gini', 'bootstrap': True} \t 0.9655952380952381\n",
      "{'n_estimators': 100, 'criterion': 'entropy', 'bootstrap': False} \t 0.9696428571428571\n",
      "{'n_estimators': 100, 'criterion': 'entropy', 'bootstrap': True} \t 0.9646428571428571\n",
      "Testing models using Normalized Data \n",
      "{'n_estimators': 1, 'criterion': 'gini', 'bootstrap': False} \t 0.8204761904761905\n",
      "{'n_estimators': 1, 'criterion': 'gini', 'bootstrap': True} \t 0.7852380952380953\n",
      "{'n_estimators': 1, 'criterion': 'entropy', 'bootstrap': False} \t 0.8198809523809524\n",
      "{'n_estimators': 1, 'criterion': 'entropy', 'bootstrap': True} \t 0.7973809523809524\n",
      "{'n_estimators': 10, 'criterion': 'gini', 'bootstrap': False} \t 0.9517857142857142\n",
      "{'n_estimators': 10, 'criterion': 'gini', 'bootstrap': True} \t 0.9401190476190476\n",
      "{'n_estimators': 10, 'criterion': 'entropy', 'bootstrap': False} \t 0.9483333333333334\n",
      "{'n_estimators': 10, 'criterion': 'entropy', 'bootstrap': True} \t 0.9425\n",
      "{'n_estimators': 100, 'criterion': 'gini', 'bootstrap': False} \t 0.9701190476190477\n",
      "{'n_estimators': 100, 'criterion': 'gini', 'bootstrap': True} \t 0.9663095238095238\n",
      "{'n_estimators': 100, 'criterion': 'entropy', 'bootstrap': False} \t 0.9679761904761904\n",
      "{'n_estimators': 100, 'criterion': 'entropy', 'bootstrap': True} \t 0.9648809523809524\n"
     ]
    }
   ],
   "source": [
    "test_sets = [rawTestSets, normTestSets]\n",
    "i=0\n",
    "for test_set, set_name in zip(test_sets, set_names):\n",
    "    X_test, y_test = test_set[4]\n",
    "    print(\"Testing models using %s \" % set_name)\n",
    "    j=12*i\n",
    "    f = 12*(i+1)\n",
    "    while(j<f):\n",
    "        print(params[j%12],\"\\t\" , rfs[j].score(X_test, y_test))\n",
    "        j += 1\n",
    "    i += 1\n",
    "        "
   ]
  },
  {
   "cell_type": "code",
   "execution_count": null,
   "metadata": {},
   "outputs": [],
   "source": []
  }
 ],
 "metadata": {
  "kernelspec": {
   "display_name": "Python 3",
   "language": "python",
   "name": "python3"
  },
  "language_info": {
   "codemirror_mode": {
    "name": "ipython",
    "version": 3
   },
   "file_extension": ".py",
   "mimetype": "text/x-python",
   "name": "python",
   "nbconvert_exporter": "python",
   "pygments_lexer": "ipython3",
   "version": "3.7.1"
  }
 },
 "nbformat": 4,
 "nbformat_minor": 2
}
